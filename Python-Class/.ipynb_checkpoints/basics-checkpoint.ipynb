{
 "cells": [
  {
   "cell_type": "markdown",
   "id": "8ffccb57",
   "metadata": {},
   "source": [
    "# Nabin Timalsina"
   ]
  }
 ],
 "metadata": {
  "kernelspec": {
   "display_name": "base",
   "language": "python",
   "name": "python3"
  },
  "language_info": {
   "name": "python",
   "version": "3.12.7"
  }
 },
 "nbformat": 4,
 "nbformat_minor": 5
}
