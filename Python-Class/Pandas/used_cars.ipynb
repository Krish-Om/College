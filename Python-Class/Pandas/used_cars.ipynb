{
 "cells": [
  {
   "cell_type": "code",
   "execution_count": 14,
   "id": "82eaddb5",
   "metadata": {},
   "outputs": [],
   "source": [
    "import numpy as np\n",
    "import fireducks.pandas as pd\n",
    "import matplotlib.pyplot as plt"
   ]
  },
  {
   "cell_type": "code",
   "execution_count": 15,
   "id": "0ec4ce6d",
   "metadata": {},
   "outputs": [
    {
     "data": {
      "text/html": [
       "<div>\n",
       "<style scoped>\n",
       "    .dataframe tbody tr th:only-of-type {\n",
       "        vertical-align: middle;\n",
       "    }\n",
       "\n",
       "    .dataframe tbody tr th {\n",
       "        vertical-align: top;\n",
       "    }\n",
       "\n",
       "    .dataframe thead th {\n",
       "        text-align: right;\n",
       "    }\n",
       "</style>\n",
       "<table border=\"1\" class=\"dataframe\">\n",
       "  <thead>\n",
       "    <tr style=\"text-align: right;\">\n",
       "      <th></th>\n",
       "      <th>brand</th>\n",
       "      <th>model</th>\n",
       "      <th>model_year</th>\n",
       "      <th>milage</th>\n",
       "      <th>fuel_type</th>\n",
       "      <th>engine</th>\n",
       "      <th>transmission</th>\n",
       "      <th>ext_col</th>\n",
       "      <th>int_col</th>\n",
       "      <th>accident</th>\n",
       "      <th>clean_title</th>\n",
       "      <th>price</th>\n",
       "    </tr>\n",
       "  </thead>\n",
       "  <tbody>\n",
       "    <tr>\n",
       "      <th>0</th>\n",
       "      <td>Ford</td>\n",
       "      <td>Utility Police Interceptor Base</td>\n",
       "      <td>2013</td>\n",
       "      <td>51,000 mi.</td>\n",
       "      <td>E85 Flex Fuel</td>\n",
       "      <td>300.0HP 3.7L V6 Cylinder Engine Flex Fuel Capa...</td>\n",
       "      <td>6-Speed A/T</td>\n",
       "      <td>Black</td>\n",
       "      <td>Black</td>\n",
       "      <td>At least 1 accident or damage reported</td>\n",
       "      <td>Yes</td>\n",
       "      <td>$10,300</td>\n",
       "    </tr>\n",
       "    <tr>\n",
       "      <th>1</th>\n",
       "      <td>Hyundai</td>\n",
       "      <td>Palisade SEL</td>\n",
       "      <td>2021</td>\n",
       "      <td>34,742 mi.</td>\n",
       "      <td>Gasoline</td>\n",
       "      <td>3.8L V6 24V GDI DOHC</td>\n",
       "      <td>8-Speed Automatic</td>\n",
       "      <td>Moonlight Cloud</td>\n",
       "      <td>Gray</td>\n",
       "      <td>At least 1 accident or damage reported</td>\n",
       "      <td>Yes</td>\n",
       "      <td>$38,005</td>\n",
       "    </tr>\n",
       "    <tr>\n",
       "      <th>2</th>\n",
       "      <td>Lexus</td>\n",
       "      <td>RX 350 RX 350</td>\n",
       "      <td>2022</td>\n",
       "      <td>22,372 mi.</td>\n",
       "      <td>Gasoline</td>\n",
       "      <td>3.5 Liter DOHC</td>\n",
       "      <td>Automatic</td>\n",
       "      <td>Blue</td>\n",
       "      <td>Black</td>\n",
       "      <td>None reported</td>\n",
       "      <td>None</td>\n",
       "      <td>$54,598</td>\n",
       "    </tr>\n",
       "    <tr>\n",
       "      <th>3</th>\n",
       "      <td>INFINITI</td>\n",
       "      <td>Q50 Hybrid Sport</td>\n",
       "      <td>2015</td>\n",
       "      <td>88,900 mi.</td>\n",
       "      <td>Hybrid</td>\n",
       "      <td>354.0HP 3.5L V6 Cylinder Engine Gas/Electric H...</td>\n",
       "      <td>7-Speed A/T</td>\n",
       "      <td>Black</td>\n",
       "      <td>Black</td>\n",
       "      <td>None reported</td>\n",
       "      <td>Yes</td>\n",
       "      <td>$15,500</td>\n",
       "    </tr>\n",
       "    <tr>\n",
       "      <th>4</th>\n",
       "      <td>Audi</td>\n",
       "      <td>Q3 45 S line Premium Plus</td>\n",
       "      <td>2021</td>\n",
       "      <td>9,835 mi.</td>\n",
       "      <td>Gasoline</td>\n",
       "      <td>2.0L I4 16V GDI DOHC Turbo</td>\n",
       "      <td>8-Speed Automatic</td>\n",
       "      <td>Glacier White Metallic</td>\n",
       "      <td>Black</td>\n",
       "      <td>None reported</td>\n",
       "      <td>None</td>\n",
       "      <td>$34,999</td>\n",
       "    </tr>\n",
       "    <tr>\n",
       "      <th>...</th>\n",
       "      <td>...</td>\n",
       "      <td>...</td>\n",
       "      <td>...</td>\n",
       "      <td>...</td>\n",
       "      <td>...</td>\n",
       "      <td>...</td>\n",
       "      <td>...</td>\n",
       "      <td>...</td>\n",
       "      <td>...</td>\n",
       "      <td>...</td>\n",
       "      <td>...</td>\n",
       "      <td>...</td>\n",
       "    </tr>\n",
       "    <tr>\n",
       "      <th>4004</th>\n",
       "      <td>Bentley</td>\n",
       "      <td>Continental GT Speed</td>\n",
       "      <td>2023</td>\n",
       "      <td>714 mi.</td>\n",
       "      <td>Gasoline</td>\n",
       "      <td>6.0L W12 48V PDI DOHC Twin Turbo</td>\n",
       "      <td>8-Speed Automatic with Auto-Shift</td>\n",
       "      <td>C / C</td>\n",
       "      <td>Hotspur</td>\n",
       "      <td>None reported</td>\n",
       "      <td>Yes</td>\n",
       "      <td>$349,950</td>\n",
       "    </tr>\n",
       "    <tr>\n",
       "      <th>4005</th>\n",
       "      <td>Audi</td>\n",
       "      <td>S4 3.0T Premium Plus</td>\n",
       "      <td>2022</td>\n",
       "      <td>10,900 mi.</td>\n",
       "      <td>Gasoline</td>\n",
       "      <td>349.0HP 3.0L V6 Cylinder Engine Gasoline Fuel</td>\n",
       "      <td>Transmission w/Dual Shift Mode</td>\n",
       "      <td>Black</td>\n",
       "      <td>Black</td>\n",
       "      <td>None reported</td>\n",
       "      <td>Yes</td>\n",
       "      <td>$53,900</td>\n",
       "    </tr>\n",
       "    <tr>\n",
       "      <th>4006</th>\n",
       "      <td>Porsche</td>\n",
       "      <td>Taycan</td>\n",
       "      <td>2022</td>\n",
       "      <td>2,116 mi.</td>\n",
       "      <td>None</td>\n",
       "      <td>Electric</td>\n",
       "      <td>Automatic</td>\n",
       "      <td>Black</td>\n",
       "      <td>Black</td>\n",
       "      <td>None reported</td>\n",
       "      <td>None</td>\n",
       "      <td>$90,998</td>\n",
       "    </tr>\n",
       "    <tr>\n",
       "      <th>4007</th>\n",
       "      <td>Ford</td>\n",
       "      <td>F-150 Raptor</td>\n",
       "      <td>2020</td>\n",
       "      <td>33,000 mi.</td>\n",
       "      <td>Gasoline</td>\n",
       "      <td>450.0HP 3.5L V6 Cylinder Engine Gasoline Fuel</td>\n",
       "      <td>A/T</td>\n",
       "      <td>Blue</td>\n",
       "      <td>Black</td>\n",
       "      <td>None reported</td>\n",
       "      <td>Yes</td>\n",
       "      <td>$62,999</td>\n",
       "    </tr>\n",
       "    <tr>\n",
       "      <th>4008</th>\n",
       "      <td>BMW</td>\n",
       "      <td>X3 xDrive30i</td>\n",
       "      <td>2020</td>\n",
       "      <td>43,000 mi.</td>\n",
       "      <td>Gasoline</td>\n",
       "      <td>248.0HP 2.0L 4 Cylinder Engine Gasoline Fuel</td>\n",
       "      <td>A/T</td>\n",
       "      <td>Gray</td>\n",
       "      <td>Brown</td>\n",
       "      <td>At least 1 accident or damage reported</td>\n",
       "      <td>Yes</td>\n",
       "      <td>$40,000</td>\n",
       "    </tr>\n",
       "  </tbody>\n",
       "</table>\n",
       "<p>4009 rows x 12 columns</p>\n",
       "</div>"
      ]
     },
     "metadata": {},
     "output_type": "display_data"
    }
   ],
   "source": [
    "df = pd.read_csv('datasets/used_cars.csv')\n",
    "df"
   ]
  },
  {
   "cell_type": "code",
   "execution_count": 16,
   "id": "fdb4081e",
   "metadata": {},
   "outputs": [
    {
     "name": "stdout",
     "output_type": "stream",
     "text": [
      "Unique engine values:\n",
      "['300.0HP 3.7L V6 Cylinder Engine Flex Fuel Capability'\n",
      " '3.8L V6 24V GDI DOHC' '3.5 Liter DOHC'\n",
      " '354.0HP 3.5L V6 Cylinder Engine Gas/Electric Hybrid'\n",
      " '2.0L I4 16V GDI DOHC Turbo' '2.4 Liter'\n",
      " '292.0HP 2.0L 4 Cylinder Engine Gasoline Fuel'\n",
      " '282.0HP 4.4L 8 Cylinder Engine Gasoline Fuel'\n",
      " '311.0HP 3.5L V6 Cylinder Engine Gasoline Fuel'\n",
      " '534.0HP Electric Motor Electric Fuel System' 'V6'\n",
      " '715.0HP 5.2L 12 Cylinder Engine Gasoline Fuel'\n",
      " '382.0HP 3.0L Straight 6 Cylinder Engine Gasoline Fuel'\n",
      " '400.0HP 3.0L V6 Cylinder Engine Gasoline Fuel' '2.0 Liter Supercharged'\n",
      " '375.0HP 5.0L 8 Cylinder Engine Gasoline Fuel'\n",
      " '305.0HP 3.6L V6 Cylinder Engine Gasoline Fuel'\n",
      " '287.0HP 3.5L V6 Cylinder Engine Gasoline Fuel'\n",
      " '550.0HP 5.0L 8 Cylinder Engine Gasoline Fuel'\n",
      " '375.0HP 3.5L V6 Cylinder Engine Gasoline Fuel']\n",
      "\n",
      "Sample engine values:\n",
      "0    300.0HP 3.7L V6 Cylinder Engine Flex Fuel Capa...\n",
      "1                                 3.8L V6 24V GDI DOHC\n",
      "2                                       3.5 Liter DOHC\n",
      "3    354.0HP 3.5L V6 Cylinder Engine Gas/Electric H...\n",
      "4                           2.0L I4 16V GDI DOHC Turbo\n",
      "5                                            2.4 Liter\n",
      "6         292.0HP 2.0L 4 Cylinder Engine Gasoline Fuel\n",
      "7         282.0HP 4.4L 8 Cylinder Engine Gasoline Fuel\n",
      "8        311.0HP 3.5L V6 Cylinder Engine Gasoline Fuel\n",
      "9          534.0HP Electric Motor Electric Fuel System\n",
      "Name: engine, dtype: object\n"
     ]
    }
   ],
   "source": [
    "# Let's examine the engine column to understand the data format\n",
    "print(\"Unique engine values:\")\n",
    "print(df['engine'].unique()[:20])  # Show first 20 unique values\n",
    "print(\"\\nSample engine values:\")\n",
    "print(df['engine'].head(10))"
   ]
  },
  {
   "cell_type": "code",
   "execution_count": 17,
   "id": "e81584b8",
   "metadata": {},
   "outputs": [],
   "source": [
    "df['milage'] = df['milage'].str.replace(\"mi.\",'').str.replace(',','')\n",
    "df['milage'] = df['milage'].astype('float64')"
   ]
  },
  {
   "cell_type": "code",
   "execution_count": 18,
   "id": "2b753fed",
   "metadata": {},
   "outputs": [
    {
     "ename": "ValueError",
     "evalue": "Failed to parse string: '195 ' as a scalar of type double",
     "output_type": "error",
     "traceback": [
      "\u001b[31m---------------------------------------------------------------------------\u001b[39m",
      "\u001b[31mValueError\u001b[39m                                Traceback (most recent call last)",
      "\u001b[36mCell\u001b[39m\u001b[36m \u001b[39m\u001b[32mIn[18]\u001b[39m\u001b[32m, line 2\u001b[39m\n\u001b[32m      1\u001b[39m \u001b[38;5;66;03m# Extract engine capacity as float (extract the number followed by 'L' or 'Liter', with optional space)\u001b[39;00m\n\u001b[32m----> \u001b[39m\u001b[32m2\u001b[39m df[\u001b[33m'\u001b[39m\u001b[33mengine_capacity\u001b[39m\u001b[33m'\u001b[39m] = \u001b[43mdf\u001b[49m\u001b[43m[\u001b[49m\u001b[33;43m'\u001b[39;49m\u001b[33;43mengine\u001b[39;49m\u001b[33;43m'\u001b[39;49m\u001b[43m]\u001b[49m\u001b[43m.\u001b[49m\u001b[43mstr\u001b[49m\u001b[43m.\u001b[49m\u001b[43mextract\u001b[49m(\u001b[33mr\u001b[39m\u001b[33m'\u001b[39m\u001b[33m(\u001b[39m\u001b[33m\\\u001b[39m\u001b[33md+\u001b[39m\u001b[33m\\\u001b[39m\u001b[33m.?\u001b[39m\u001b[33m\\\u001b[39m\u001b[33md*)\u001b[39m\u001b[33m\\\u001b[39m\u001b[33ms*(?:L|Liter)\u001b[39m\u001b[33m'\u001b[39m).astype(\u001b[33m'\u001b[39m\u001b[33mfloat64\u001b[39m\u001b[33m'\u001b[39m)\n",
      "\u001b[36mFile \u001b[39m\u001b[32m~/College/Python-Class/.venv/lib/python3.13/site-packages/fireducks/pandas/utils.py:820\u001b[39m, in \u001b[36mReadOnlyAccessor.__getattr__\u001b[39m\u001b[34m(self, name)\u001b[39m\n\u001b[32m    818\u001b[39m \u001b[38;5;28;01mdef\u001b[39;00m\u001b[38;5;250m \u001b[39m\u001b[34m__getattr__\u001b[39m(\u001b[38;5;28mself\u001b[39m, name):\n\u001b[32m    819\u001b[39m     reason = \u001b[33m\"\u001b[39m\u001b[33mReadOnlyAccessor.__getattr__ is called\u001b[39m\u001b[33m\"\u001b[39m\n\u001b[32m--> \u001b[39m\u001b[32m820\u001b[39m     \u001b[38;5;28;01mreturn\u001b[39;00m \u001b[43mfallback_attr\u001b[49m\u001b[43m(\u001b[49m\u001b[38;5;28;43mself\u001b[39;49m\u001b[43m.\u001b[49m\u001b[43m_unwrap\u001b[49m\u001b[43m,\u001b[49m\u001b[43m \u001b[49m\u001b[43mname\u001b[49m\u001b[43m,\u001b[49m\u001b[43m \u001b[49m\u001b[43mreason\u001b[49m\u001b[43m)\u001b[49m\n",
      "\u001b[36mFile \u001b[39m\u001b[32m~/College/Python-Class/.venv/lib/python3.13/site-packages/fireducks/pandas/utils.py:250\u001b[39m, in \u001b[36mfallback_attr\u001b[39m\u001b[34m(fallbacker, name, reason, stacklevel, wrap_func)\u001b[39m\n\u001b[32m    248\u001b[39m wrap_func = wrap_func \u001b[38;5;129;01mor\u001b[39;00m _wrap\n\u001b[32m    249\u001b[39m options = fireducks.core.get_fireducks_options()\n\u001b[32m--> \u001b[39m\u001b[32m250\u001b[39m \u001b[38;5;28;01mreturn\u001b[39;00m \u001b[43mff\u001b[49m\u001b[43m.\u001b[49m\u001b[43mfallback_attr\u001b[49m\u001b[43m(\u001b[49m\n\u001b[32m    251\u001b[39m \u001b[43m    \u001b[49m\u001b[43mfallbacker\u001b[49m\u001b[43m,\u001b[49m\n\u001b[32m    252\u001b[39m \u001b[43m    \u001b[49m\u001b[43mname\u001b[49m\u001b[43m,\u001b[49m\n\u001b[32m    253\u001b[39m \u001b[43m    \u001b[49m\u001b[43mreason\u001b[49m\u001b[43m,\u001b[49m\n\u001b[32m    254\u001b[39m \u001b[43m    \u001b[49m\u001b[43mstacklevel\u001b[49m\u001b[43m=\u001b[49m\u001b[43mstacklevel\u001b[49m\u001b[43m,\u001b[49m\n\u001b[32m    255\u001b[39m \u001b[43m    \u001b[49m\u001b[43mwrap_func\u001b[49m\u001b[43m=\u001b[49m\u001b[43mwrap_func\u001b[49m\u001b[43m,\u001b[49m\n\u001b[32m    256\u001b[39m \u001b[43m    \u001b[49m\u001b[43munwrap_func\u001b[49m\u001b[43m=\u001b[49m\u001b[43m_unwrap\u001b[49m\u001b[43m,\u001b[49m\n\u001b[32m    257\u001b[39m \u001b[43m    \u001b[49m\u001b[43mlog_lineno\u001b[49m\u001b[43m=\u001b[49m\u001b[43moptions\u001b[49m\u001b[43m.\u001b[49m\u001b[43mfallback_lineno\u001b[49m\u001b[43m,\u001b[49m\n\u001b[32m    258\u001b[39m \u001b[43m    \u001b[49m\u001b[43mwarn_fallback\u001b[49m\u001b[43m=\u001b[49m\u001b[43moptions\u001b[49m\u001b[43m.\u001b[49m\u001b[43mwarn_fallback\u001b[49m\u001b[43m,\u001b[49m\n\u001b[32m    259\u001b[39m \u001b[43m\u001b[49m\u001b[43m)\u001b[49m\n",
      "\u001b[36mFile \u001b[39m\u001b[32m~/College/Python-Class/.venv/lib/python3.13/site-packages/fireducks/fallback.py:127\u001b[39m, in \u001b[36mfallback_attr\u001b[39m\u001b[34m(fallbacker, name, reason, stacklevel, wrap_func, unwrap_func, log_lineno, warn_fallback)\u001b[39m\n\u001b[32m    124\u001b[39m FallbackManager.check(\u001b[33mf\u001b[39m\u001b[33m\"\u001b[39m\u001b[33mfallback_attr: attr=\u001b[39m\u001b[38;5;132;01m{\u001b[39;00mname\u001b[38;5;132;01m}\u001b[39;00m\u001b[33m: \u001b[39m\u001b[38;5;132;01m{\u001b[39;00mreason\u001b[38;5;132;01m}\u001b[39;00m\u001b[33m\"\u001b[39m)\n\u001b[32m    126\u001b[39m \u001b[38;5;28;01mwith\u001b[39;00m warn_builder.timing(\u001b[33m\"\u001b[39m\u001b[33mgetobj\u001b[39m\u001b[33m\"\u001b[39m):\n\u001b[32m--> \u001b[39m\u001b[32m127\u001b[39m     obj = \u001b[43mfallbacker\u001b[49m\u001b[43m(\u001b[49m\u001b[43mreason\u001b[49m\u001b[43m=\u001b[49m\u001b[43mreason\u001b[49m\u001b[43m)\u001b[49m\n\u001b[32m    129\u001b[39m logger.debug(\n\u001b[32m    130\u001b[39m     \u001b[33m\"\u001b[39m\u001b[33mfallback_attr: name=\u001b[39m\u001b[38;5;132;01m%s\u001b[39;00m\u001b[33m reason=\u001b[39m\u001b[38;5;132;01m%s\u001b[39;00m\u001b[33m \u001b[39m\u001b[38;5;132;01m%s\u001b[39;00m\u001b[33m\"\u001b[39m,\n\u001b[32m    131\u001b[39m     get_attr_long_name(obj, name),\n\u001b[32m    132\u001b[39m     reason,\n\u001b[32m    133\u001b[39m     at,\n\u001b[32m    134\u001b[39m )\n\u001b[32m    136\u001b[39m \u001b[38;5;28;01mwith\u001b[39;00m warn_builder.timing(\u001b[33m\"\u001b[39m\u001b[33mgetattr\u001b[39m\u001b[33m\"\u001b[39m):\n",
      "\u001b[36mFile \u001b[39m\u001b[32m~/College/Python-Class/.venv/lib/python3.13/site-packages/fireducks/pandas/series.py:159\u001b[39m, in \u001b[36mStringMethods._unwrap\u001b[39m\u001b[34m(self, reason)\u001b[39m\n\u001b[32m    158\u001b[39m \u001b[38;5;28;01mdef\u001b[39;00m\u001b[38;5;250m \u001b[39m\u001b[34m_unwrap\u001b[39m(\u001b[38;5;28mself\u001b[39m, reason):\n\u001b[32m--> \u001b[39m\u001b[32m159\u001b[39m     \u001b[38;5;28;01mreturn\u001b[39;00m \u001b[43mutils\u001b[49m\u001b[43m.\u001b[49m\u001b[43mfallback_attr\u001b[49m\u001b[43m(\u001b[49m\n\u001b[32m    160\u001b[39m \u001b[43m        \u001b[49m\u001b[38;5;28;43mself\u001b[39;49m\u001b[43m.\u001b[49m\u001b[43mobj\u001b[49m\u001b[43m.\u001b[49m\u001b[43m_unwrap\u001b[49m\u001b[43m,\u001b[49m\n\u001b[32m    161\u001b[39m \u001b[43m        \u001b[49m\u001b[33;43m\"\u001b[39;49m\u001b[33;43mstr\u001b[39;49m\u001b[33;43m\"\u001b[39;49m\u001b[43m,\u001b[49m\n\u001b[32m    162\u001b[39m \u001b[43m        \u001b[49m\u001b[43mreason\u001b[49m\u001b[43m=\u001b[49m\u001b[33;43m\"\u001b[39;49m\u001b[33;43mStringMethods._unwrap\u001b[39;49m\u001b[33;43m\"\u001b[39;49m\u001b[43m,\u001b[49m\n\u001b[32m    163\u001b[39m \u001b[43m        \u001b[49m\u001b[43mstacklevel\u001b[49m\u001b[43m=\u001b[49m\u001b[32;43m8\u001b[39;49m\u001b[43m,\u001b[49m\n\u001b[32m    164\u001b[39m \u001b[43m    \u001b[49m\u001b[43m)\u001b[49m\n",
      "\u001b[36mFile \u001b[39m\u001b[32m~/College/Python-Class/.venv/lib/python3.13/site-packages/fireducks/pandas/utils.py:250\u001b[39m, in \u001b[36mfallback_attr\u001b[39m\u001b[34m(fallbacker, name, reason, stacklevel, wrap_func)\u001b[39m\n\u001b[32m    248\u001b[39m wrap_func = wrap_func \u001b[38;5;129;01mor\u001b[39;00m _wrap\n\u001b[32m    249\u001b[39m options = fireducks.core.get_fireducks_options()\n\u001b[32m--> \u001b[39m\u001b[32m250\u001b[39m \u001b[38;5;28;01mreturn\u001b[39;00m \u001b[43mff\u001b[49m\u001b[43m.\u001b[49m\u001b[43mfallback_attr\u001b[49m\u001b[43m(\u001b[49m\n\u001b[32m    251\u001b[39m \u001b[43m    \u001b[49m\u001b[43mfallbacker\u001b[49m\u001b[43m,\u001b[49m\n\u001b[32m    252\u001b[39m \u001b[43m    \u001b[49m\u001b[43mname\u001b[49m\u001b[43m,\u001b[49m\n\u001b[32m    253\u001b[39m \u001b[43m    \u001b[49m\u001b[43mreason\u001b[49m\u001b[43m,\u001b[49m\n\u001b[32m    254\u001b[39m \u001b[43m    \u001b[49m\u001b[43mstacklevel\u001b[49m\u001b[43m=\u001b[49m\u001b[43mstacklevel\u001b[49m\u001b[43m,\u001b[49m\n\u001b[32m    255\u001b[39m \u001b[43m    \u001b[49m\u001b[43mwrap_func\u001b[49m\u001b[43m=\u001b[49m\u001b[43mwrap_func\u001b[49m\u001b[43m,\u001b[49m\n\u001b[32m    256\u001b[39m \u001b[43m    \u001b[49m\u001b[43munwrap_func\u001b[49m\u001b[43m=\u001b[49m\u001b[43m_unwrap\u001b[49m\u001b[43m,\u001b[49m\n\u001b[32m    257\u001b[39m \u001b[43m    \u001b[49m\u001b[43mlog_lineno\u001b[49m\u001b[43m=\u001b[49m\u001b[43moptions\u001b[49m\u001b[43m.\u001b[49m\u001b[43mfallback_lineno\u001b[49m\u001b[43m,\u001b[49m\n\u001b[32m    258\u001b[39m \u001b[43m    \u001b[49m\u001b[43mwarn_fallback\u001b[49m\u001b[43m=\u001b[49m\u001b[43moptions\u001b[49m\u001b[43m.\u001b[49m\u001b[43mwarn_fallback\u001b[49m\u001b[43m,\u001b[49m\n\u001b[32m    259\u001b[39m \u001b[43m\u001b[49m\u001b[43m)\u001b[49m\n",
      "\u001b[36mFile \u001b[39m\u001b[32m~/College/Python-Class/.venv/lib/python3.13/site-packages/fireducks/fallback.py:127\u001b[39m, in \u001b[36mfallback_attr\u001b[39m\u001b[34m(fallbacker, name, reason, stacklevel, wrap_func, unwrap_func, log_lineno, warn_fallback)\u001b[39m\n\u001b[32m    124\u001b[39m FallbackManager.check(\u001b[33mf\u001b[39m\u001b[33m\"\u001b[39m\u001b[33mfallback_attr: attr=\u001b[39m\u001b[38;5;132;01m{\u001b[39;00mname\u001b[38;5;132;01m}\u001b[39;00m\u001b[33m: \u001b[39m\u001b[38;5;132;01m{\u001b[39;00mreason\u001b[38;5;132;01m}\u001b[39;00m\u001b[33m\"\u001b[39m)\n\u001b[32m    126\u001b[39m \u001b[38;5;28;01mwith\u001b[39;00m warn_builder.timing(\u001b[33m\"\u001b[39m\u001b[33mgetobj\u001b[39m\u001b[33m\"\u001b[39m):\n\u001b[32m--> \u001b[39m\u001b[32m127\u001b[39m     obj = \u001b[43mfallbacker\u001b[49m\u001b[43m(\u001b[49m\u001b[43mreason\u001b[49m\u001b[43m=\u001b[49m\u001b[43mreason\u001b[49m\u001b[43m)\u001b[49m\n\u001b[32m    129\u001b[39m logger.debug(\n\u001b[32m    130\u001b[39m     \u001b[33m\"\u001b[39m\u001b[33mfallback_attr: name=\u001b[39m\u001b[38;5;132;01m%s\u001b[39;00m\u001b[33m reason=\u001b[39m\u001b[38;5;132;01m%s\u001b[39;00m\u001b[33m \u001b[39m\u001b[38;5;132;01m%s\u001b[39;00m\u001b[33m\"\u001b[39m,\n\u001b[32m    131\u001b[39m     get_attr_long_name(obj, name),\n\u001b[32m    132\u001b[39m     reason,\n\u001b[32m    133\u001b[39m     at,\n\u001b[32m    134\u001b[39m )\n\u001b[32m    136\u001b[39m \u001b[38;5;28;01mwith\u001b[39;00m warn_builder.timing(\u001b[33m\"\u001b[39m\u001b[33mgetattr\u001b[39m\u001b[33m\"\u001b[39m):\n",
      "\u001b[36mFile \u001b[39m\u001b[32m~/College/Python-Class/.venv/lib/python3.13/site-packages/fireducks/pandas/generic.py:498\u001b[39m, in \u001b[36mFireDucksPandasCompat._unwrap\u001b[39m\u001b[34m(self, reason)\u001b[39m\n\u001b[32m    497\u001b[39m \u001b[38;5;28;01mdef\u001b[39;00m\u001b[38;5;250m \u001b[39m\u001b[34m_unwrap\u001b[39m(\u001b[38;5;28mself\u001b[39m, reason=\u001b[38;5;28;01mNone\u001b[39;00m):\n\u001b[32m--> \u001b[39m\u001b[32m498\u001b[39m     \u001b[38;5;28;01mreturn\u001b[39;00m \u001b[38;5;28;43mself\u001b[39;49m\u001b[43m.\u001b[49m\u001b[43mto_pandas\u001b[49m\u001b[43m(\u001b[49m\u001b[43mreason\u001b[49m\u001b[43m=\u001b[49m\u001b[33;43mf\u001b[39;49m\u001b[33;43m\"\u001b[39;49m\u001b[33;43munwrap (\u001b[39;49m\u001b[38;5;132;43;01m{\u001b[39;49;00m\u001b[43mreason\u001b[49m\u001b[38;5;132;43;01m}\u001b[39;49;00m\u001b[33;43m)\u001b[39;49m\u001b[33;43m\"\u001b[39;49m\u001b[43m)\u001b[49m\n",
      "\u001b[36mFile \u001b[39m\u001b[32m~/College/Python-Class/.venv/lib/python3.13/site-packages/fireducks/pandas/generic.py:1704\u001b[39m, in \u001b[36mFireDucksPandasCompat.to_pandas\u001b[39m\u001b[34m(self, options, reason)\u001b[39m\n\u001b[32m   1701\u001b[39m \u001b[38;5;28;01melse\u001b[39;00m:\n\u001b[32m   1702\u001b[39m     logger.debug(\u001b[33m\"\u001b[39m\u001b[33mto_pandas: need to _evaluate\u001b[39m\u001b[33m\"\u001b[39m)\n\u001b[32m   1703\u001b[39m     \u001b[38;5;28mself\u001b[39m._fireducks_meta.set_cache(\n\u001b[32m-> \u001b[39m\u001b[32m1704\u001b[39m         \u001b[33m\"\u001b[39m\u001b[33mpandas_object\u001b[39m\u001b[33m\"\u001b[39m, \u001b[38;5;28;43mself\u001b[39;49m\u001b[43m.\u001b[49m\u001b[43m_to_pandas\u001b[49m\u001b[43m(\u001b[49m\u001b[43moptions\u001b[49m\u001b[43m=\u001b[49m\u001b[43moptions\u001b[49m\u001b[43m)\u001b[49m\n\u001b[32m   1705\u001b[39m     )\n\u001b[32m   1707\u001b[39m \u001b[38;5;28;01mreturn\u001b[39;00m \u001b[38;5;28mself\u001b[39m._fireducks_meta.get_cache(\u001b[33m\"\u001b[39m\u001b[33mpandas_object\u001b[39m\u001b[33m\"\u001b[39m)\n",
      "\u001b[36mFile \u001b[39m\u001b[32m~/College/Python-Class/.venv/lib/python3.13/site-packages/fireducks/pandas/series.py:811\u001b[39m, in \u001b[36mSeries._to_pandas\u001b[39m\u001b[34m(self, options)\u001b[39m\n\u001b[32m    808\u001b[39m \u001b[38;5;28;01mif\u001b[39;00m (\u001b[38;5;129;01mnot\u001b[39;00m ir_prop.has_series) \u001b[38;5;129;01mand\u001b[39;00m ir_prop.has_metadata:\n\u001b[32m    809\u001b[39m     \u001b[38;5;28;01mfrom\u001b[39;00m\u001b[38;5;250m \u001b[39m\u001b[34;01mfireducks\u001b[39;00m\u001b[34;01m.\u001b[39;00m\u001b[34;01mpandas\u001b[39;00m\u001b[34;01m.\u001b[39;00m\u001b[34;01mframe\u001b[39;00m\u001b[38;5;250m \u001b[39m\u001b[38;5;28;01mimport\u001b[39;00m _to_pandas_frame_metadata\n\u001b[32m--> \u001b[39m\u001b[32m811\u001b[39m     result = \u001b[43m_to_pandas_frame_metadata\u001b[49m\u001b[43m(\u001b[49m\u001b[38;5;28;43mself\u001b[39;49m\u001b[43m.\u001b[49m\u001b[43m_value\u001b[49m\u001b[43m,\u001b[49m\u001b[43m \u001b[49m\u001b[43moptions\u001b[49m\u001b[43m)\u001b[49m\n\u001b[32m    812\u001b[39m     \u001b[38;5;28;01massert\u001b[39;00m (\n\u001b[32m    813\u001b[39m         \u001b[38;5;28misinstance\u001b[39m(result, pandas.DataFrame)\n\u001b[32m    814\u001b[39m         \u001b[38;5;129;01mand\u001b[39;00m \u001b[38;5;28mlen\u001b[39m(result.columns) <= \u001b[32m1\u001b[39m  \u001b[38;5;66;03m# 0 means empty Series\u001b[39;00m\n\u001b[32m    815\u001b[39m     ), \u001b[33mf\u001b[39m\u001b[33m\"\u001b[39m\u001b[38;5;132;01m{\u001b[39;00m\u001b[38;5;28mtype\u001b[39m(result)\u001b[38;5;132;01m}\u001b[39;00m\u001b[33m[\u001b[39m\u001b[38;5;132;01m{\u001b[39;00m\u001b[38;5;28mlen\u001b[39m(result.columns)\u001b[38;5;132;01m}\u001b[39;00m\u001b[33m] is not pandas.Series\u001b[39m\u001b[33m\"\u001b[39m\n\u001b[32m    816\u001b[39m     \u001b[38;5;28;01mif\u001b[39;00m \u001b[38;5;28mlen\u001b[39m(result.columns) == \u001b[32m0\u001b[39m:\n",
      "\u001b[36mFile \u001b[39m\u001b[32m~/College/Python-Class/.venv/lib/python3.13/site-packages/fireducks/pandas/frame.py:1866\u001b[39m, in \u001b[36m_to_pandas_frame_metadata\u001b[39m\u001b[34m(value, options)\u001b[39m\n\u001b[32m   1864\u001b[39m \u001b[38;5;28;01mdef\u001b[39;00m\u001b[38;5;250m \u001b[39m\u001b[34m_to_pandas_frame_metadata\u001b[39m(value, options=\u001b[38;5;28;01mNone\u001b[39;00m):\n\u001b[32m   1865\u001b[39m     v0, v1 = ir.to_pandas_frame_metadata(value)\n\u001b[32m-> \u001b[39m\u001b[32m1866\u001b[39m     df, meta = \u001b[43mfireducks\u001b[49m\u001b[43m.\u001b[49m\u001b[43mcore\u001b[49m\u001b[43m.\u001b[49m\u001b[43mevaluate\u001b[49m\u001b[43m(\u001b[49m\u001b[43m[\u001b[49m\u001b[43mv0\u001b[49m\u001b[43m,\u001b[49m\u001b[43m \u001b[49m\u001b[43mv1\u001b[49m\u001b[43m]\u001b[49m\u001b[43m,\u001b[49m\u001b[43m \u001b[49m\u001b[43moptions\u001b[49m\u001b[43m=\u001b[49m\u001b[43moptions\u001b[49m\u001b[43m)\u001b[49m\n\u001b[32m   1867\u001b[39m     logger.debug(\u001b[33m\"\u001b[39m\u001b[33mto_pandas_frame_metadata: meta=\u001b[39m\u001b[38;5;132;01m%s\u001b[39;00m\u001b[33m\"\u001b[39m, meta)\n\u001b[32m   1868\u001b[39m     \u001b[38;5;28;01mwith\u001b[39;00m tracing.scope(tracing.Level.VERBOSE, \u001b[33m\"\u001b[39m\u001b[33mto_pandas:metadata.apply\u001b[39m\u001b[33m\"\u001b[39m):\n",
      "\u001b[36mFile \u001b[39m\u001b[32m~/College/Python-Class/.venv/lib/python3.13/site-packages/fireducks/core.py:403\u001b[39m, in \u001b[36mevaluate\u001b[39m\u001b[34m(values, options, evalLogger)\u001b[39m\n\u001b[32m    397\u001b[39m \u001b[38;5;28;01mdef\u001b[39;00m\u001b[38;5;250m \u001b[39m\u001b[34mevaluate\u001b[39m(\n\u001b[32m    398\u001b[39m     values: List[fire.Value],\n\u001b[32m    399\u001b[39m     options: EvalOptions = \u001b[38;5;28;01mNone\u001b[39;00m,\n\u001b[32m    400\u001b[39m     evalLogger: EvalLogger = \u001b[38;5;28;01mNone\u001b[39;00m,\n\u001b[32m    401\u001b[39m ):\n\u001b[32m    402\u001b[39m     \u001b[38;5;28;01mwith\u001b[39;00m tracing.scope(tracing.Level.DEFAULT, \u001b[33m\"\u001b[39m\u001b[33mfireducks.core.evaluate\u001b[39m\u001b[33m\"\u001b[39m):\n\u001b[32m--> \u001b[39m\u001b[32m403\u001b[39m         ret = \u001b[43m_evaluate\u001b[49m\u001b[43m(\u001b[49m\u001b[43mvalues\u001b[49m\u001b[43m,\u001b[49m\u001b[43m \u001b[49m\u001b[43moptions\u001b[49m\u001b[43m,\u001b[49m\u001b[43m \u001b[49m\u001b[43mevalLogger\u001b[49m\u001b[43m)\u001b[49m\n\u001b[32m    404\u001b[39m     \u001b[38;5;28;01mreturn\u001b[39;00m ret\n",
      "\u001b[36mFile \u001b[39m\u001b[32m~/College/Python-Class/.venv/lib/python3.13/site-packages/fireducks/core.py:382\u001b[39m, in \u001b[36m_evaluate\u001b[39m\u001b[34m(values, options, evalLogger)\u001b[39m\n\u001b[32m    374\u001b[39m     \u001b[38;5;28;01mreturn\u001b[39;00m fireducks_ext.execute(\n\u001b[32m    375\u001b[39m         context().ext_context,\n\u001b[32m    376\u001b[39m         options._compile_options,\n\u001b[32m    377\u001b[39m         fi,\n\u001b[32m    378\u001b[39m         evalLogger._extLogger \u001b[38;5;28;01mif\u001b[39;00m evalLogger \u001b[38;5;129;01mis\u001b[39;00m \u001b[38;5;129;01mnot\u001b[39;00m \u001b[38;5;28;01mNone\u001b[39;00m \u001b[38;5;28;01melse\u001b[39;00m \u001b[38;5;28;01mNone\u001b[39;00m,\n\u001b[32m    379\u001b[39m     )\n\u001b[32m    381\u001b[39m \u001b[38;5;28;01mtry\u001b[39;00m:\n\u001b[32m--> \u001b[39m\u001b[32m382\u001b[39m     \u001b[38;5;28;01mreturn\u001b[39;00m \u001b[43mfire\u001b[49m\u001b[43m.\u001b[49m\u001b[43mevaluate\u001b[49m\u001b[43m(\u001b[49m\u001b[43mvalues\u001b[49m\u001b[43m,\u001b[49m\u001b[43m \u001b[49m\u001b[43mwrapper\u001b[49m\u001b[43m,\u001b[49m\u001b[43m \u001b[49m\u001b[43mpackage\u001b[49m\u001b[43m=\u001b[49m\u001b[33;43m\"\u001b[39;49m\u001b[33;43mfireducks\u001b[39;49m\u001b[33;43m\"\u001b[39;49m\u001b[43m)\u001b[49m\n\u001b[32m    383\u001b[39m \u001b[38;5;28;01mexcept\u001b[39;00m fireducks_ext.IndexingError \u001b[38;5;28;01mas\u001b[39;00m e:\n\u001b[32m    384\u001b[39m     \u001b[38;5;28;01mraise\u001b[39;00m pandas.errors.IndexingError(e)\n",
      "\u001b[36mFile \u001b[39m\u001b[32m~/College/Python-Class/.venv/lib/python3.13/site-packages/firefw/runtime.py:31\u001b[39m, in \u001b[36mprohibit_reentrant.<locals>.wrapper\u001b[39m\u001b[34m(*args, **kwargs)\u001b[39m\n\u001b[32m     29\u001b[39m lock = \u001b[38;5;28;01mTrue\u001b[39;00m\n\u001b[32m     30\u001b[39m \u001b[38;5;28;01mtry\u001b[39;00m:\n\u001b[32m---> \u001b[39m\u001b[32m31\u001b[39m     ret = \u001b[43mfunc\u001b[49m\u001b[43m(\u001b[49m\u001b[43m*\u001b[49m\u001b[43margs\u001b[49m\u001b[43m,\u001b[49m\u001b[43m \u001b[49m\u001b[43m*\u001b[49m\u001b[43m*\u001b[49m\u001b[43mkwargs\u001b[49m\u001b[43m)\u001b[49m\n\u001b[32m     32\u001b[39m \u001b[38;5;28;01mfinally\u001b[39;00m:\n\u001b[32m     33\u001b[39m     lock = \u001b[38;5;28;01mFalse\u001b[39;00m\n",
      "\u001b[36mFile \u001b[39m\u001b[32m~/College/Python-Class/.venv/lib/python3.13/site-packages/firefw/runtime.py:72\u001b[39m, in \u001b[36mevaluate\u001b[39m\u001b[34m(values, executor, package)\u001b[39m\n\u001b[32m     67\u001b[39m \u001b[38;5;28;01mwith\u001b[39;00m tracing.scope(tracing.Level.VERBOSE, \u001b[33m\"\u001b[39m\u001b[33mcreate_mlir_func\u001b[39m\u001b[33m\"\u001b[39m):\n\u001b[32m     68\u001b[39m     source, input_values, output_values = create_mlir_func(\n\u001b[32m     69\u001b[39m         values, package=package\n\u001b[32m     70\u001b[39m     )\n\u001b[32m---> \u001b[39m\u001b[32m72\u001b[39m ret = \u001b[43mexecutor\u001b[49m\u001b[43m(\u001b[49m\u001b[43msource\u001b[49m\u001b[43m,\u001b[49m\u001b[43m \u001b[49m\u001b[43minput_values\u001b[49m\u001b[43m,\u001b[49m\u001b[43m \u001b[49m\u001b[43moutput_values\u001b[49m\u001b[43m)\u001b[49m\n\u001b[32m     74\u001b[39m \u001b[38;5;28;01mif\u001b[39;00m \u001b[38;5;28mlen\u001b[39m(output_values) != \u001b[38;5;28mlen\u001b[39m(ret):\n\u001b[32m     75\u001b[39m     \u001b[38;5;28;01mraise\u001b[39;00m \u001b[38;5;167;01mRuntimeError\u001b[39;00m(\u001b[33m\"\u001b[39m\u001b[33mExecutor did not return enough number of returns\u001b[39m\u001b[33m\"\u001b[39m)\n",
      "\u001b[36mFile \u001b[39m\u001b[32m~/College/Python-Class/.venv/lib/python3.13/site-packages/fireducks/core.py:374\u001b[39m, in \u001b[36m_evaluate.<locals>.wrapper\u001b[39m\u001b[34m(ir, input_values, output_values)\u001b[39m\n\u001b[32m    371\u001b[39m fi.input_values = [v.get_result() \u001b[38;5;28;01mfor\u001b[39;00m v \u001b[38;5;129;01min\u001b[39;00m input_values]\n\u001b[32m    372\u001b[39m fi.output_types = [v.mlir_type \u001b[38;5;28;01mfor\u001b[39;00m v \u001b[38;5;129;01min\u001b[39;00m output_values]\n\u001b[32m--> \u001b[39m\u001b[32m374\u001b[39m \u001b[38;5;28;01mreturn\u001b[39;00m \u001b[43mfireducks_ext\u001b[49m\u001b[43m.\u001b[49m\u001b[43mexecute\u001b[49m\u001b[43m(\u001b[49m\n\u001b[32m    375\u001b[39m \u001b[43m    \u001b[49m\u001b[43mcontext\u001b[49m\u001b[43m(\u001b[49m\u001b[43m)\u001b[49m\u001b[43m.\u001b[49m\u001b[43mext_context\u001b[49m\u001b[43m,\u001b[49m\n\u001b[32m    376\u001b[39m \u001b[43m    \u001b[49m\u001b[43moptions\u001b[49m\u001b[43m.\u001b[49m\u001b[43m_compile_options\u001b[49m\u001b[43m,\u001b[49m\n\u001b[32m    377\u001b[39m \u001b[43m    \u001b[49m\u001b[43mfi\u001b[49m\u001b[43m,\u001b[49m\n\u001b[32m    378\u001b[39m \u001b[43m    \u001b[49m\u001b[43mevalLogger\u001b[49m\u001b[43m.\u001b[49m\u001b[43m_extLogger\u001b[49m\u001b[43m \u001b[49m\u001b[38;5;28;43;01mif\u001b[39;49;00m\u001b[43m \u001b[49m\u001b[43mevalLogger\u001b[49m\u001b[43m \u001b[49m\u001b[38;5;129;43;01mis\u001b[39;49;00m\u001b[43m \u001b[49m\u001b[38;5;129;43;01mnot\u001b[39;49;00m\u001b[43m \u001b[49m\u001b[38;5;28;43;01mNone\u001b[39;49;00m\u001b[43m \u001b[49m\u001b[38;5;28;43;01melse\u001b[39;49;00m\u001b[43m \u001b[49m\u001b[38;5;28;43;01mNone\u001b[39;49;00m\u001b[43m,\u001b[49m\n\u001b[32m    379\u001b[39m \u001b[43m\u001b[49m\u001b[43m)\u001b[49m\n",
      "\u001b[31mValueError\u001b[39m: Failed to parse string: '195 ' as a scalar of type double"
     ]
    }
   ],
   "source": [
    "# Extract engine capacity as float (extract the number followed by 'L' or 'Liter', with optional space)\n",
    "df['engine_capacity'] = df['engine'].str.extract(r'(\\d+\\.?\\d*)\\s*(?:L|Liter)').astype('float64')"
   ]
  },
  {
   "cell_type": "code",
   "execution_count": null,
   "id": "c8ba9218",
   "metadata": {},
   "outputs": [
    {
     "name": "stdout",
     "output_type": "stream",
     "text": [
      "Engine capacity extraction results:\n",
      "Unique engine capacities: [np.float64(0.65), np.float64(1.0), np.float64(1.2), np.float64(1.3), np.float64(1.4), np.float64(1.5), np.float64(1.6), np.float64(1.7), np.float64(1.8), np.float64(2.0), np.float64(2.1), np.float64(2.2), np.float64(2.3), np.float64(2.4), np.float64(2.5), np.float64(2.7), np.float64(2.8), np.float64(2.9), np.float64(3.0), np.float64(3.2), np.float64(3.3), np.float64(3.4), np.float64(3.5), np.float64(3.6), np.float64(3.7), np.float64(3.8), np.float64(3.9), np.float64(4.0), np.float64(4.2), np.float64(4.3), np.float64(4.4), np.float64(4.5), np.float64(4.6), np.float64(4.7), np.float64(4.8), np.float64(5.0), np.float64(5.2), np.float64(5.3), np.float64(5.4), np.float64(5.5), np.float64(5.6), np.float64(5.7), np.float64(5.8), np.float64(5.9), np.float64(6.0), np.float64(6.1), np.float64(6.2), np.float64(6.3), np.float64(6.4), np.float64(6.5), np.float64(6.6), np.float64(6.7), np.float64(6.75), np.float64(6.8), np.float64(7.0), np.float64(7.3), np.float64(7.4), np.float64(8.0), np.float64(8.1), np.float64(8.3), np.float64(8.4)]\n",
      "Number of missing values: 217\n",
      "Total rows: 4009\n",
      "\n",
      "Sample results:\n",
      "                                              engine  engine_capacity\n",
      "0  300.0HP 3.7L V6 Cylinder Engine Flex Fuel Capa...              3.7\n",
      "1                               3.8L V6 24V GDI DOHC              3.8\n",
      "2                                     3.5 Liter DOHC              3.5\n",
      "3  354.0HP 3.5L V6 Cylinder Engine Gas/Electric H...              3.5\n",
      "4                         2.0L I4 16V GDI DOHC Turbo              2.0\n",
      "5                                          2.4 Liter              2.4\n",
      "6       292.0HP 2.0L 4 Cylinder Engine Gasoline Fuel              2.0\n",
      "7       282.0HP 4.4L 8 Cylinder Engine Gasoline Fuel              4.4\n",
      "8      311.0HP 3.5L V6 Cylinder Engine Gasoline Fuel              3.5\n",
      "9        534.0HP Electric Motor Electric Fuel System              NaN\n"
     ]
    }
   ],
   "source": [
    "# Verify the engine capacity extraction\n",
    "print(\"Engine capacity extraction results:\")\n",
    "print(\"Unique engine capacities:\", sorted(df['engine_capacity'].dropna().unique()))\n",
    "print(f\"Number of missing values: {df['engine_capacity'].isnull().sum()}\")\n",
    "print(f\"Total rows: {len(df)}\")\n",
    "print(\"\\nSample results:\")\n",
    "print(df[['engine', 'engine_capacity']].head(10))"
   ]
  },
  {
   "cell_type": "code",
   "execution_count": null,
   "id": "d0abcfbb",
   "metadata": {},
   "outputs": [
    {
     "name": "stdout",
     "output_type": "stream",
     "text": [
      "Testing: '3.5 Liter DOHC'\n",
      "Characters: ['3', '.', '5', ' ', 'L', 'i', 't', 'e', 'r', ' ', 'D', 'O', 'H', 'C']\n",
      "Pattern '(\\d+\\.?\\d*)(?:L|Liter)' -> 0    None\n",
      "Name: 0, dtype: object\n",
      "Pattern '(\\d+\\.?\\d*)\\s*(?:L|Liter)' -> 0    3.5\n",
      "Name: 0, dtype: object\n",
      "Pattern '(\\d+\\.?\\d*)\\s*Liter' -> 0    3.5\n",
      "Name: 0, dtype: object\n"
     ]
    }
   ],
   "source": [
    "# Debug the regex - let's see what's in the \"3.5 Liter DOHC\" string\n",
    "test_val = '3.5 Liter DOHC'\n",
    "print(f\"Testing: '{test_val}'\")\n",
    "print(\"Characters:\", [c for c in test_val])\n",
    "\n",
    "# Try different regex patterns\n",
    "patterns = [\n",
    "    r'(\\d+\\.?\\d*)(?:L|Liter)',\n",
    "    r'(\\d+\\.?\\d*)\\s*(?:L|Liter)',\n",
    "    r'(\\d+\\.?\\d*)\\s*Liter',\n",
    "]\n",
    "\n",
    "for pattern in patterns:\n",
    "    result = pd.Series([test_val]).str.extract(pattern)\n",
    "    print(f\"Pattern '{pattern}' -> {result.iloc[0]}\")"
   ]
  },
  {
   "cell_type": "code",
   "execution_count": null,
   "id": "dcff30ad",
   "metadata": {},
   "outputs": [],
   "source": [
    "df.drop('engine',axis=1,inplace=True)"
   ]
  },
  {
   "cell_type": "code",
   "execution_count": null,
   "id": "84660260",
   "metadata": {},
   "outputs": [],
   "source": [
    "df"
   ]
  },
  {
   "cell_type": "code",
   "execution_count": null,
   "id": "8c258829",
   "metadata": {},
   "outputs": [],
   "source": [
    "df.head()"
   ]
  },
  {
   "cell_type": "code",
   "execution_count": null,
   "id": "ea423ed5",
   "metadata": {},
   "outputs": [],
   "source": [
    "df['Accident_Occured']=df['accident'].apply(lambda x:'No' if x == \"None reported\" else 'Yes')\n",
    "df"
   ]
  },
  {
   "cell_type": "code",
   "execution_count": null,
   "id": "8844ae23",
   "metadata": {},
   "outputs": [],
   "source": [
    "df.drop('accident',axis=1,inplace=True)\n",
    "df"
   ]
  },
  {
   "cell_type": "code",
   "execution_count": null,
   "id": "b9dfac8a",
   "metadata": {},
   "outputs": [],
   "source": [
    "len(df['brand'].value_counts()) # counts the number of brands"
   ]
  },
  {
   "cell_type": "code",
   "execution_count": null,
   "id": "e8d1423e",
   "metadata": {},
   "outputs": [],
   "source": [
    "df['price']=df['price'].str.replace('$','').str.replace(',','')\n",
    "df['price']=df['price'].astype('float64')"
   ]
  },
  {
   "cell_type": "code",
   "execution_count": null,
   "id": "4b934b22",
   "metadata": {},
   "outputs": [],
   "source": [
    "df.info()"
   ]
  },
  {
   "cell_type": "code",
   "execution_count": null,
   "id": "52a80321",
   "metadata": {},
   "outputs": [],
   "source": [
    "df.isnull().sum()"
   ]
  },
  {
   "cell_type": "markdown",
   "id": "1f5ad234",
   "metadata": {},
   "source": [
    "* we should remove the data if the 10% of the data are missing in the column, depending on the importance of the column."
   ]
  },
  {
   "cell_type": "code",
   "execution_count": null,
   "id": "00312660",
   "metadata": {},
   "outputs": [],
   "source": [
    "missing_info = {}\n",
    "for col in df.columns:\n",
    "    if df[col].isnull().sum()>0:\n",
    "        missing_count = (df[col].isnull().sum()/len(df)) * 100\n",
    "        missing_info[col]=round(missing_count,2)\n",
    "\n",
    "for col,per in missing_info.items():\n",
    "    print(f'{col} : {per}%')"
   ]
  },
  {
   "cell_type": "code",
   "execution_count": null,
   "id": "acf0961d",
   "metadata": {},
   "outputs": [],
   "source": [
    "df.info()"
   ]
  },
  {
   "cell_type": "code",
   "execution_count": null,
   "id": "cf939a2b",
   "metadata": {},
   "outputs": [],
   "source": [
    "numerical_columns=df.select_dtypes(include=['number','int64','int32','float32','float64']).columns\n",
    "categorical_columns=df.select_dtypes(include=['object','category']).columns"
   ]
  },
  {
   "cell_type": "code",
   "execution_count": null,
   "id": "4244ea57",
   "metadata": {},
   "outputs": [],
   "source": [
    "df[categorical_columns]"
   ]
  },
  {
   "cell_type": "code",
   "execution_count": null,
   "id": "f774b748",
   "metadata": {},
   "outputs": [],
   "source": [
    "df[numerical_columns].head()"
   ]
  },
  {
   "cell_type": "code",
   "execution_count": null,
   "id": "7070aa73",
   "metadata": {},
   "outputs": [],
   "source": [
    "df[numerical_columns]=df[numerical_columns].fillna(df[numerical_columns].mean())"
   ]
  },
  {
   "cell_type": "code",
   "execution_count": null,
   "id": "696a5844",
   "metadata": {},
   "outputs": [],
   "source": [
    "df[numerical_columns].head()"
   ]
  },
  {
   "cell_type": "code",
   "execution_count": null,
   "id": "3bdfbe2e",
   "metadata": {},
   "outputs": [],
   "source": [
    "df[numerical_columns].isnull().sum()"
   ]
  },
  {
   "cell_type": "code",
   "execution_count": null,
   "id": "55d1cf91",
   "metadata": {},
   "outputs": [],
   "source": [
    "df[categorical_columns]=df[categorical_columns].fillna(df[categorical_columns].iloc[0])"
   ]
  },
  {
   "cell_type": "code",
   "execution_count": null,
   "id": "ccdb8727",
   "metadata": {},
   "outputs": [],
   "source": [
    "df.head()"
   ]
  },
  {
   "cell_type": "code",
   "execution_count": null,
   "id": "c43747c0",
   "metadata": {},
   "outputs": [],
   "source": [
    "df.isnull().sum()"
   ]
  },
  {
   "cell_type": "code",
   "execution_count": null,
   "id": "694adfe8",
   "metadata": {},
   "outputs": [],
   "source": [
    "df.head()"
   ]
  },
  {
   "cell_type": "markdown",
   "id": "d3a043bd",
   "metadata": {},
   "source": [
    "## Encoding the datasets\n",
    "* One Hot encoding\n",
    "* label encoding"
   ]
  },
  {
   "cell_type": "code",
   "execution_count": null,
   "id": "91521af8",
   "metadata": {},
   "outputs": [],
   "source": [
    "from sklearn.preprocessing import OneHotEncoder,LabelEncoder,StandardScaler"
   ]
  },
  {
   "cell_type": "markdown",
   "id": "3cbcb981",
   "metadata": {},
   "source": [
    "### We are performing the LabelEncoder"
   ]
  },
  {
   "cell_type": "code",
   "execution_count": null,
   "id": "5847fe10",
   "metadata": {},
   "outputs": [],
   "source": [
    "le = LabelEncoder()\n",
    "for col in categorical_columns:\n",
    "    df[col] = le.fit_transform(df[col])\n",
    "    "
   ]
  },
  {
   "cell_type": "code",
   "execution_count": null,
   "id": "0e734c83",
   "metadata": {},
   "outputs": [],
   "source": [
    "df[categorical_columns].head()"
   ]
  },
  {
   "cell_type": "code",
   "execution_count": null,
   "id": "db4f4d3b",
   "metadata": {},
   "outputs": [],
   "source": [
    "x = np.array([51000, 34742, 22372, 88900])\n",
    "x_list = np.array([ (i - x.mean()) / x.std() for i in x ])\n",
    "x_list.mean()\n"
   ]
  },
  {
   "cell_type": "code",
   "execution_count": null,
   "id": "05b61583",
   "metadata": {},
   "outputs": [],
   "source": [
    "scaler = StandardScaler()\n",
    "for col in numerical_columns:\n",
    "    "
   ]
  }
 ],
 "metadata": {
  "kernelspec": {
   "display_name": ".venv",
   "language": "python",
   "name": "python3"
  },
  "language_info": {
   "codemirror_mode": {
    "name": "ipython",
    "version": 3
   },
   "file_extension": ".py",
   "mimetype": "text/x-python",
   "name": "python",
   "nbconvert_exporter": "python",
   "pygments_lexer": "ipython3",
   "version": "3.13.5"
  }
 },
 "nbformat": 4,
 "nbformat_minor": 5
}
