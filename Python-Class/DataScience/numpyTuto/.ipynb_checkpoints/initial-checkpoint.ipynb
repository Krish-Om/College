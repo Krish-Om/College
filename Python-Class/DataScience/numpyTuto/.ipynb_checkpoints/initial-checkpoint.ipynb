{
 "cells": [
  {
   "cell_type": "markdown",
   "id": "4b78cc35-66e2-4177-92d4-4f750b149d30",
   "metadata": {},
   "source": [
    "# Numpy\n"
   ]
  },
  {
   "cell_type": "markdown",
   "id": "47eda276",
   "metadata": {
    "vscode": {
     "languageId": "plaintext"
    }
   },
   "source": [
    "Numerical Python is an open source library in Python.\n",
    "\n",
    "- Vector processing"
   ]
  },
  {
   "cell_type": "code",
   "execution_count": null,
   "id": "5d1a86ba",
   "metadata": {},
   "outputs": [
    {
     "name": "stdout",
     "output_type": "stream",
     "text": [
      "Requirement already satisfied: numpy in /home/krishom/anaconda3/lib/python3.12/site-packages (1.26.4)\n"
     ]
    }
   ],
   "source": [
    "# !pip install numpy\n"
   ]
  }
 ],
 "metadata": {
  "kernelspec": {
   "display_name": "base",
   "language": "python",
   "name": "python3"
  },
  "language_info": {
   "codemirror_mode": {
    "name": "ipython",
    "version": 3
   },
   "file_extension": ".py",
   "mimetype": "text/x-python",
   "name": "python",
   "nbconvert_exporter": "python",
   "pygments_lexer": "ipython3",
   "version": "3.12.7"
  }
 },
 "nbformat": 4,
 "nbformat_minor": 5
}
