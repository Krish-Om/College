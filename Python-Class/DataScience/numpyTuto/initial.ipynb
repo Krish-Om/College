{
 "cells": [
  {
   "cell_type": "markdown",
   "id": "4b78cc35-66e2-4177-92d4-4f750b149d30",
   "metadata": {},
   "source": [
    "# Numpy\n"
   ]
  },
  {
   "cell_type": "markdown",
   "id": "47eda276",
   "metadata": {
    "vscode": {
     "languageId": "plaintext"
    }
   },
   "source": [
    "Numerical Python is an open source library in Python.\n",
    "\n",
    "- Vector processing"
   ]
  },
  {
   "cell_type": "code",
   "execution_count": 41,
   "id": "5d1a86ba",
   "metadata": {},
   "outputs": [],
   "source": [
    "# !pip install numpy\n"
   ]
  },
  {
   "cell_type": "markdown",
   "id": "8bec12f1-7906-49a2-adab-6a7d242142c4",
   "metadata": {},
   "source": [
    "# Single Dimension numpy array"
   ]
  },
  {
   "cell_type": "code",
   "execution_count": 42,
   "id": "648246ad-eff1-4f4f-bb09-a772081473da",
   "metadata": {},
   "outputs": [
    {
     "data": {
      "text/plain": [
       "array([10, 20, 30, 40])"
      ]
     },
     "execution_count": 42,
     "metadata": {},
     "output_type": "execute_result"
    }
   ],
   "source": [
    "import numpy as np\n",
    "n1 = np.array([10,20,30,40])\n",
    "n1"
   ]
  },
  {
   "cell_type": "code",
   "execution_count": 43,
   "id": "b8e2e7f6-10a0-4726-8381-8229f6979fa3",
   "metadata": {},
   "outputs": [
    {
     "data": {
      "text/plain": [
       "numpy.ndarray"
      ]
     },
     "execution_count": 43,
     "metadata": {},
     "output_type": "execute_result"
    }
   ],
   "source": [
    "type(n1)"
   ]
  },
  {
   "cell_type": "markdown",
   "id": "21e8f0d6-929a-41fa-a418-8e00ec2b8313",
   "metadata": {},
   "source": [
    "# Multi dimension numpy array"
   ]
  },
  {
   "cell_type": "code",
   "execution_count": 44,
   "id": "0d741cc6-7854-42b3-b74c-b7c501b2876d",
   "metadata": {},
   "outputs": [
    {
     "data": {
      "text/plain": [
       "array([[10, 20, 30],\n",
       "       [40, 50, 60],\n",
       "       [70, 80, 90]])"
      ]
     },
     "execution_count": 44,
     "metadata": {},
     "output_type": "execute_result"
    }
   ],
   "source": [
    "n2 = np.array([[10,20,30],[40,50,60],[70,80,90]])\n",
    "n2"
   ]
  },
  {
   "cell_type": "code",
   "execution_count": 45,
   "id": "a73a21fa-309c-4988-911e-22a7b1b69e4b",
   "metadata": {},
   "outputs": [
    {
     "data": {
      "text/plain": [
       "(3, 3)"
      ]
     },
     "execution_count": 45,
     "metadata": {},
     "output_type": "execute_result"
    }
   ],
   "source": [
    "n2.shape"
   ]
  },
  {
   "cell_type": "markdown",
   "id": "a48ca1cb-c2a1-44af-afee-ee25653f7838",
   "metadata": {},
   "source": [
    "# initializing numpy arrays with zeros"
   ]
  },
  {
   "cell_type": "code",
   "execution_count": 46,
   "id": "1b199628-a82c-44d5-a43e-7debdcf452c6",
   "metadata": {},
   "outputs": [
    {
     "data": {
      "text/plain": [
       "array([[0., 0., 0., 0., 0., 0., 0., 0., 0.],\n",
       "       [0., 0., 0., 0., 0., 0., 0., 0., 0.],\n",
       "       [0., 0., 0., 0., 0., 0., 0., 0., 0.],\n",
       "       [0., 0., 0., 0., 0., 0., 0., 0., 0.],\n",
       "       [0., 0., 0., 0., 0., 0., 0., 0., 0.],\n",
       "       [0., 0., 0., 0., 0., 0., 0., 0., 0.],\n",
       "       [0., 0., 0., 0., 0., 0., 0., 0., 0.],\n",
       "       [0., 0., 0., 0., 0., 0., 0., 0., 0.],\n",
       "       [0., 0., 0., 0., 0., 0., 0., 0., 0.]])"
      ]
     },
     "execution_count": 46,
     "metadata": {},
     "output_type": "execute_result"
    }
   ],
   "source": [
    "n3 = np.zeros((9,9))\n",
    "n3"
   ]
  },
  {
   "cell_type": "markdown",
   "id": "ebb2b17e-409b-44dd-a169-f4dd8b812e78",
   "metadata": {},
   "source": [
    "# initializing a array of matrix with full then"
   ]
  },
  {
   "cell_type": "code",
   "execution_count": 47,
   "id": "0cc92cb9-8184-492d-8233-321d7be3b369",
   "metadata": {},
   "outputs": [
    {
     "data": {
      "text/plain": [
       "array([[6, 6, 6, 6, 6, 6, 6, 6, 6],\n",
       "       [6, 6, 6, 6, 6, 6, 6, 6, 6],\n",
       "       [6, 6, 6, 6, 6, 6, 6, 6, 6],\n",
       "       [6, 6, 6, 6, 6, 6, 6, 6, 6],\n",
       "       [6, 6, 6, 6, 6, 6, 6, 6, 6],\n",
       "       [6, 6, 6, 6, 6, 6, 6, 6, 6],\n",
       "       [6, 6, 6, 6, 6, 6, 6, 6, 6],\n",
       "       [6, 6, 6, 6, 6, 6, 6, 6, 6],\n",
       "       [6, 6, 6, 6, 6, 6, 6, 6, 6]])"
      ]
     },
     "execution_count": 47,
     "metadata": {},
     "output_type": "execute_result"
    }
   ],
   "source": [
    "n4 = np.full((9,9),6)\n",
    "n4"
   ]
  },
  {
   "cell_type": "code",
   "execution_count": 48,
   "id": "8ed73da5-3899-4109-979c-2dea213bd741",
   "metadata": {},
   "outputs": [
    {
     "data": {
      "text/plain": [
       "array([6, 6, 6, 3, 6, 6, 6, 6, 6])"
      ]
     },
     "execution_count": 48,
     "metadata": {},
     "output_type": "execute_result"
    }
   ],
   "source": [
    "n4[3][3] = 3\n",
    "n4[3]"
   ]
  },
  {
   "cell_type": "markdown",
   "id": "9bd19ff6",
   "metadata": {},
   "source": [
    "# Initialization of NumPy array within a range"
   ]
  },
  {
   "cell_type": "code",
   "execution_count": 49,
   "id": "3141b8c9",
   "metadata": {},
   "outputs": [
    {
     "data": {
      "text/plain": [
       "array([], dtype=int64)"
      ]
     },
     "execution_count": 49,
     "metadata": {},
     "output_type": "execute_result"
    }
   ],
   "source": [
    "\n",
    "n5=np.arange(10,1)\n",
    "n5 "
   ]
  },
  {
   "cell_type": "markdown",
   "id": "79902a33",
   "metadata": {},
   "source": [
    "# initializing NumPy array with the random numbers"
   ]
  },
  {
   "cell_type": "code",
   "execution_count": 50,
   "id": "6dd4c652",
   "metadata": {},
   "outputs": [
    {
     "ename": "SyntaxError",
     "evalue": "'(' was never closed (2267804126.py, line 1)",
     "output_type": "error",
     "traceback": [
      "\u001b[0;36m  Cell \u001b[0;32mIn[50], line 1\u001b[0;36m\u001b[0m\n\u001b[0;31m    RandomArray = np.random.randint(0,((10000000000000),10)\u001b[0m\n\u001b[0m                                   ^\u001b[0m\n\u001b[0;31mSyntaxError\u001b[0m\u001b[0;31m:\u001b[0m '(' was never closed\n"
     ]
    }
   ],
   "source": [
    "RandomArray = np.random.randint(0,((10000000000000),10)\n",
    "RandomArray"
   ]
  },
  {
   "cell_type": "markdown",
   "id": "4e66f80b",
   "metadata": {},
   "source": [
    "# initialization the array shape changes in a fracion of seconds."
   ]
  },
  {
   "cell_type": "code",
   "execution_count": null,
   "id": "26125005",
   "metadata": {},
   "outputs": [
    {
     "data": {
      "text/plain": [
       "(4, 3)"
      ]
     },
     "execution_count": 19,
     "metadata": {},
     "output_type": "execute_result"
    }
   ],
   "source": [
    "n8 =np.array([[10,20,30],[20,30,40],[40,50,60],[60,70,80]])\n",
    "n8.shape"
   ]
  },
  {
   "cell_type": "code",
   "execution_count": null,
   "id": "d9e6a8aa",
   "metadata": {},
   "outputs": [],
   "source": [
    "n8.shape = (3,4)"
   ]
  },
  {
   "cell_type": "code",
   "execution_count": null,
   "id": "9dfaf2e5",
   "metadata": {},
   "outputs": [
    {
     "data": {
      "text/plain": [
       "array([[10, 20, 30, 20],\n",
       "       [30, 40, 40, 50],\n",
       "       [60, 60, 70, 80]])"
      ]
     },
     "execution_count": 21,
     "metadata": {},
     "output_type": "execute_result"
    }
   ],
   "source": [
    "n8.shape\n",
    "n8"
   ]
  },
  {
   "cell_type": "code",
   "execution_count": null,
   "id": "85fb4118",
   "metadata": {},
   "outputs": [
    {
     "data": {
      "text/plain": [
       "array([[10, 30, 60],\n",
       "       [20, 40, 60],\n",
       "       [30, 40, 70],\n",
       "       [20, 50, 80]])"
      ]
     },
     "execution_count": 22,
     "metadata": {},
     "output_type": "execute_result"
    }
   ],
   "source": [
    "n8.T"
   ]
  },
  {
   "cell_type": "markdown",
   "id": "711fa2f9",
   "metadata": {},
   "source": [
    "# Joining the numpy Array\n"
   ]
  },
  {
   "cell_type": "code",
   "execution_count": null,
   "id": "02afa0a3",
   "metadata": {},
   "outputs": [],
   "source": [
    "a = np.array((1,10))\n",
    "b = np.array((1,10))\n",
    "c = np.array((1,10))\n",
    "d= np.array((1,10))\n",
    "\n",
    "a = np.random.randint(0,1000,10)\n",
    "b = np.random.randint(0,1000,10)\n",
    "c = np.random.randint(0,1000,10)\n",
    "d = np.random.randint(0,1000,10)"
   ]
  },
  {
   "cell_type": "code",
   "execution_count": null,
   "id": "3959a2cd",
   "metadata": {},
   "outputs": [
    {
     "data": {
      "text/plain": [
       "(4, 10)"
      ]
     },
     "execution_count": 26,
     "metadata": {},
     "output_type": "execute_result"
    }
   ],
   "source": [
    "vertical_stack = np.vstack((a,b,c,d))\n",
    "horizontal_stack = np.hstack((a,b,c,d))\n",
    "column_stack = np.column_stack((a,b,c,d))\n",
    "vertical_stack.shape"
   ]
  },
  {
   "cell_type": "code",
   "execution_count": null,
   "id": "4170a00c",
   "metadata": {},
   "outputs": [
    {
     "data": {
      "text/plain": [
       "array([[715, 769, 613, 628,  43, 234, 516, 324, 565, 797],\n",
       "       [303, 654, 725, 380, 643, 782, 730, 107,   6, 850],\n",
       "       [931, 759, 158, 727, 472, 721, 415, 808, 497, 231],\n",
       "       [753, 546, 756, 520, 764, 306,  99,  32, 190, 688]])"
      ]
     },
     "execution_count": 30,
     "metadata": {},
     "output_type": "execute_result"
    }
   ],
   "source": [
    "# makes multi dimnesional array\n",
    "\n",
    "vertical_stack"
   ]
  },
  {
   "cell_type": "code",
   "execution_count": null,
   "id": "290699f0",
   "metadata": {},
   "outputs": [
    {
     "data": {
      "text/plain": [
       "array([715, 769, 613, 628,  43, 234, 516, 324, 565, 797, 303, 654, 725,\n",
       "       380, 643, 782, 730, 107,   6, 850, 931, 759, 158, 727, 472, 721,\n",
       "       415, 808, 497, 231, 753, 546, 756, 520, 764, 306,  99,  32, 190,\n",
       "       688])"
      ]
     },
     "execution_count": 31,
     "metadata": {},
     "output_type": "execute_result"
    }
   ],
   "source": [
    "# makes single dim array\n",
    "\n",
    "horizontal_stack"
   ]
  },
  {
   "cell_type": "code",
   "execution_count": null,
   "id": "a6fcb7fc",
   "metadata": {},
   "outputs": [
    {
     "data": {
      "text/plain": [
       "array([[715, 303, 931, 753],\n",
       "       [769, 654, 759, 546],\n",
       "       [613, 725, 158, 756],\n",
       "       [628, 380, 727, 520],\n",
       "       [ 43, 643, 472, 764],\n",
       "       [234, 782, 721, 306],\n",
       "       [516, 730, 415,  99],\n",
       "       [324, 107, 808,  32],\n",
       "       [565,   6, 497, 190],\n",
       "       [797, 850, 231, 688]])"
      ]
     },
     "execution_count": 32,
     "metadata": {},
     "output_type": "execute_result"
    }
   ],
   "source": [
    "# makes mulit dim but with zeroth index elements\n",
    "column_stack"
   ]
  },
  {
   "cell_type": "code",
   "execution_count": null,
   "id": "2f7dae93",
   "metadata": {},
   "outputs": [
    {
     "data": {
      "text/plain": [
       "(40,)"
      ]
     },
     "execution_count": 34,
     "metadata": {},
     "output_type": "execute_result"
    }
   ],
   "source": [
    "horizontal_stack.shape"
   ]
  },
  {
   "cell_type": "code",
   "execution_count": null,
   "id": "6d7aebb2",
   "metadata": {},
   "outputs": [
    {
     "data": {
      "text/plain": [
       "(4, 10)"
      ]
     },
     "execution_count": 35,
     "metadata": {},
     "output_type": "execute_result"
    }
   ],
   "source": [
    "vertical_stack.shape\n"
   ]
  },
  {
   "cell_type": "code",
   "execution_count": null,
   "id": "8a322118",
   "metadata": {},
   "outputs": [
    {
     "data": {
      "text/plain": [
       "(10, 4)"
      ]
     },
     "execution_count": 36,
     "metadata": {},
     "output_type": "execute_result"
    }
   ],
   "source": [
    "column_stack.shape\n"
   ]
  },
  {
   "cell_type": "markdown",
   "id": "32962928",
   "metadata": {},
   "source": [
    "# Numpy intersection, differences and union"
   ]
  },
  {
   "cell_type": "code",
   "execution_count": null,
   "id": "2282723d",
   "metadata": {},
   "outputs": [
    {
     "data": {
      "text/plain": [
       "array([10, 20, 30, 40, 50, 60])"
      ]
     },
     "execution_count": 37,
     "metadata": {},
     "output_type": "execute_result"
    }
   ],
   "source": [
    "x = np.array([x for x in range(10,70,10)])\n",
    "x"
   ]
  },
  {
   "cell_type": "code",
   "execution_count": null,
   "id": "3d2016ac",
   "metadata": {},
   "outputs": [
    {
     "data": {
      "text/plain": [
       "array([ 30,  50,  70,  90, 110, 130, 150])"
      ]
     },
     "execution_count": 41,
     "metadata": {},
     "output_type": "execute_result"
    }
   ],
   "source": [
    "y = np.array([i for i in range(30,170,20)])\n",
    "y"
   ]
  },
  {
   "cell_type": "code",
   "execution_count": null,
   "id": "03567989",
   "metadata": {},
   "outputs": [
    {
     "data": {
      "text/plain": [
       "array([30, 50])"
      ]
     },
     "execution_count": 42,
     "metadata": {},
     "output_type": "execute_result"
    }
   ],
   "source": [
    "np.intersect1d(x,y)"
   ]
  },
  {
   "cell_type": "code",
   "execution_count": null,
   "id": "a8ed862a",
   "metadata": {},
   "outputs": [
    {
     "data": {
      "text/plain": [
       "array([ 10,  20,  30,  40,  50,  60,  70,  90, 110, 130, 150])"
      ]
     },
     "execution_count": 43,
     "metadata": {},
     "output_type": "execute_result"
    }
   ],
   "source": [
    "np.union1d(x,y)"
   ]
  },
  {
   "cell_type": "code",
   "execution_count": null,
   "id": "1b4c7baa",
   "metadata": {},
   "outputs": [
    {
     "data": {
      "text/plain": [
       "array([10, 20, 40, 60])"
      ]
     },
     "execution_count": 44,
     "metadata": {},
     "output_type": "execute_result"
    }
   ],
   "source": [
    "np.setdiff1d(x,y)"
   ]
  },
  {
   "cell_type": "code",
   "execution_count": null,
   "id": "7d2f885a",
   "metadata": {},
   "outputs": [
    {
     "data": {
      "text/plain": [
       "array([ 70,  90, 110, 130, 150])"
      ]
     },
     "execution_count": 45,
     "metadata": {},
     "output_type": "execute_result"
    }
   ],
   "source": [
    "np.setdiff1d(y,x)"
   ]
  },
  {
   "cell_type": "code",
   "execution_count": null,
   "id": "2c95b93d",
   "metadata": {},
   "outputs": [
    {
     "data": {
      "text/plain": [
       "array([30, 70])"
      ]
     },
     "execution_count": 14,
     "metadata": {},
     "output_type": "execute_result"
    }
   ],
   "source": [
    "t = np.array([10,20])\n",
    "s =np.array([30,40])\n",
    "\n",
    "np.sum([t,s],axis=1)"
   ]
  },
  {
   "cell_type": "markdown",
   "id": "c4971cf4",
   "metadata": {},
   "source": [
    "# NumPy array mathematics"
   ]
  },
  {
   "cell_type": "code",
   "execution_count": null,
   "id": "30b0d38a",
   "metadata": {},
   "outputs": [],
   "source": [
    "p  = np.array([x for x in range(10,40,10)])"
   ]
  },
  {
   "cell_type": "code",
   "execution_count": null,
   "id": "de1aa219",
   "metadata": {},
   "outputs": [
    {
     "data": {
      "text/plain": [
       "array([11, 21, 31])"
      ]
     },
     "execution_count": 14,
     "metadata": {},
     "output_type": "execute_result"
    }
   ],
   "source": [
    "p +1"
   ]
  },
  {
   "cell_type": "code",
   "execution_count": null,
   "id": "7b604335",
   "metadata": {},
   "outputs": [
    {
     "data": {
      "text/plain": [
       "array([ 9, 19, 29])"
      ]
     },
     "execution_count": 15,
     "metadata": {},
     "output_type": "execute_result"
    }
   ],
   "source": [
    "p -1"
   ]
  },
  {
   "cell_type": "code",
   "execution_count": null,
   "id": "0f93bab4",
   "metadata": {},
   "outputs": [
    {
     "data": {
      "text/plain": [
       "array([10, 20, 30])"
      ]
     },
     "execution_count": 16,
     "metadata": {},
     "output_type": "execute_result"
    }
   ],
   "source": [
    "p*1"
   ]
  },
  {
   "cell_type": "code",
   "execution_count": null,
   "id": "9dad9b82",
   "metadata": {},
   "outputs": [
    {
     "data": {
      "text/plain": [
       "array([100, 400, 900])"
      ]
     },
     "execution_count": 17,
     "metadata": {},
     "output_type": "execute_result"
    }
   ],
   "source": [
    "p ** 2"
   ]
  },
  {
   "cell_type": "code",
   "execution_count": null,
   "id": "b0ee910c",
   "metadata": {},
   "outputs": [
    {
     "data": {
      "text/plain": [
       "array([2, 5, 7])"
      ]
     },
     "execution_count": 18,
     "metadata": {},
     "output_type": "execute_result"
    }
   ],
   "source": [
    "p // 4"
   ]
  },
  {
   "cell_type": "code",
   "execution_count": null,
   "id": "68530d75",
   "metadata": {},
   "outputs": [
    {
     "data": {
      "text/plain": [
       "array([         10000000000, -2101438300051996672,  2565992168703393792])"
      ]
     },
     "execution_count": 19,
     "metadata": {},
     "output_type": "execute_result"
    }
   ],
   "source": [
    "p ** p"
   ]
  },
  {
   "cell_type": "markdown",
   "id": "1183d588",
   "metadata": {},
   "source": [
    "# NumPy maths functions"
   ]
  },
  {
   "cell_type": "code",
   "execution_count": null,
   "id": "7de6f1e6",
   "metadata": {},
   "outputs": [],
   "source": [
    "nn = np.array([i for i in range(10,60,10)])"
   ]
  },
  {
   "cell_type": "code",
   "execution_count": null,
   "id": "54279714",
   "metadata": {},
   "outputs": [
    {
     "data": {
      "text/plain": [
       "array([  10,   20,   30,   40, 1000])"
      ]
     },
     "execution_count": 23,
     "metadata": {},
     "output_type": "execute_result"
    }
   ],
   "source": [
    "nn[-1] = 1000\n",
    "nn"
   ]
  },
  {
   "cell_type": "markdown",
   "id": "757c2623",
   "metadata": {},
   "source": [
    "* When there is missing values we use mean,median, interpolation, correlation regression techniques to fill the missing value.\n",
    "* Also for outliers we assume the value using above techniques"
   ]
  },
  {
   "cell_type": "code",
   "execution_count": null,
   "id": "dc8569f2",
   "metadata": {},
   "outputs": [
    {
     "data": {
      "text/plain": [
       "30.0"
      ]
     },
     "execution_count": 25,
     "metadata": {},
     "output_type": "execute_result"
    }
   ],
   "source": [
    "nn.mean()"
   ]
  },
  {
   "cell_type": "code",
   "execution_count": null,
   "id": "0d43751f",
   "metadata": {},
   "outputs": [
    {
     "data": {
      "text/plain": [
       "30.0"
      ]
     },
     "execution_count": 26,
     "metadata": {},
     "output_type": "execute_result"
    }
   ],
   "source": [
    "np.median(nn)"
   ]
  },
  {
   "cell_type": "code",
   "execution_count": null,
   "id": "ef0da70f",
   "metadata": {},
   "outputs": [
    {
     "data": {
      "text/plain": [
       "390.1281840626232"
      ]
     },
     "execution_count": 27,
     "metadata": {},
     "output_type": "execute_result"
    }
   ],
   "source": [
    "np.std(nn)"
   ]
  },
  {
   "cell_type": "code",
   "execution_count": null,
   "id": "26ef28a9",
   "metadata": {},
   "outputs": [
    {
     "data": {
      "text/plain": [
       "array(190250.)"
      ]
     },
     "execution_count": 28,
     "metadata": {},
     "output_type": "execute_result"
    }
   ],
   "source": [
    "np.cov(nn)"
   ]
  },
  {
   "cell_type": "code",
   "execution_count": null,
   "id": "0b25932c",
   "metadata": {},
   "outputs": [
    {
     "data": {
      "text/plain": [
       "152200.0"
      ]
     },
     "execution_count": 30,
     "metadata": {},
     "output_type": "execute_result"
    }
   ],
   "source": [
    "np.var(nn)"
   ]
  },
  {
   "cell_type": "code",
   "execution_count": null,
   "id": "335f3d54",
   "metadata": {},
   "outputs": [
    {
     "data": {
      "text/plain": [
       "10"
      ]
     },
     "execution_count": 31,
     "metadata": {},
     "output_type": "execute_result"
    }
   ],
   "source": [
    "np.min(nn)"
   ]
  },
  {
   "cell_type": "code",
   "execution_count": null,
   "id": "09fa26ee",
   "metadata": {},
   "outputs": [
    {
     "data": {
      "text/plain": [
       "5"
      ]
     },
     "execution_count": 33,
     "metadata": {},
     "output_type": "execute_result"
    }
   ],
   "source": [
    "np.count_nonzero(nn)"
   ]
  },
  {
   "cell_type": "code",
   "execution_count": null,
   "id": "09267c5b",
   "metadata": {},
   "outputs": [
    {
     "data": {
      "text/plain": [
       "1000"
      ]
     },
     "execution_count": 34,
     "metadata": {},
     "output_type": "execute_result"
    }
   ],
   "source": [
    "np.max(nn)"
   ]
  },
  {
   "cell_type": "markdown",
   "id": "a7a3f998",
   "metadata": {},
   "source": [
    "# saving and loading the NumPy array"
   ]
  },
  {
   "cell_type": "code",
   "execution_count": null,
   "id": "291141f9",
   "metadata": {},
   "outputs": [],
   "source": [
    "krishom_num = np.array([x for x in range(10,100,10)])"
   ]
  },
  {
   "cell_type": "code",
   "execution_count": 51,
   "id": "0d58053d",
   "metadata": {},
   "outputs": [],
   "source": [
    "np.save('krishom',krishom_num)"
   ]
  },
  {
   "cell_type": "code",
   "execution_count": 52,
   "id": "afc36583",
   "metadata": {},
   "outputs": [
    {
     "data": {
      "text/plain": [
       "array([10, 20, 30, 40, 50, 60, 70, 80, 90])"
      ]
     },
     "execution_count": 52,
     "metadata": {},
     "output_type": "execute_result"
    }
   ],
   "source": [
    "np.load('krishom.npy')"
   ]
  },
  {
   "cell_type": "code",
   "execution_count": 54,
   "id": "335092fb",
   "metadata": {},
   "outputs": [
    {
     "data": {
      "text/plain": [
       "array([0.5129918 , 0.86502202, 0.43230795, 0.89958963, 0.6050881 ,\n",
       "       0.71814576, 0.20899177, 0.06298484, 0.40950024, 0.03311088])"
      ]
     },
     "execution_count": 54,
     "metadata": {},
     "output_type": "execute_result"
    }
   ],
   "source": [
    "np.random.uniform(size=10)"
   ]
  },
  {
   "cell_type": "code",
   "execution_count": 59,
   "id": "cab95b7e",
   "metadata": {},
   "outputs": [
    {
     "data": {
      "text/plain": [
       "array([[1., 0., 0., 0.],\n",
       "       [0., 1., 0., 0.],\n",
       "       [0., 0., 1., 0.],\n",
       "       [0., 0., 0., 1.]])"
      ]
     },
     "execution_count": 59,
     "metadata": {},
     "output_type": "execute_result"
    }
   ],
   "source": [
    "np.identity(4)"
   ]
  },
  {
   "cell_type": "code",
   "execution_count": 58,
   "id": "4577b8cb",
   "metadata": {},
   "outputs": [
    {
     "data": {
      "text/plain": [
       "array([[1., 0., 0., 0.],\n",
       "       [0., 1., 0., 0.],\n",
       "       [0., 0., 1., 0.]])"
      ]
     },
     "execution_count": 58,
     "metadata": {},
     "output_type": "execute_result"
    }
   ],
   "source": [
    "np.eye(3,4)"
   ]
  },
  {
   "cell_type": "markdown",
   "id": "7ef2e203",
   "metadata": {},
   "source": [
    "# Einstein Smmation Conventions\n",
    "\n",
    "* used to compute many multi dim and linear algebric operation on arrays"
   ]
  },
  {
   "cell_type": "code",
   "execution_count": 60,
   "id": "86ca4ae3",
   "metadata": {},
   "outputs": [
    {
     "data": {
      "text/plain": [
       "array([[10, 20, 30],\n",
       "       [40, 50, 60],\n",
       "       [70, 80, 90]])"
      ]
     },
     "execution_count": 60,
     "metadata": {},
     "output_type": "execute_result"
    }
   ],
   "source": [
    "a = np.array([x for x in range(10,100,10)]).reshape(3,3)\n",
    "a\n"
   ]
  },
  {
   "cell_type": "code",
   "execution_count": 62,
   "id": "43415080",
   "metadata": {},
   "outputs": [
    {
     "data": {
      "text/plain": [
       "array([[1, 2, 3],\n",
       "       [4, 5, 6],\n",
       "       [7, 8, 9]])"
      ]
     },
     "execution_count": 62,
     "metadata": {},
     "output_type": "execute_result"
    }
   ],
   "source": [
    "b = np.array([x for x in range(1,10)]).reshape(3,3)\n",
    "b"
   ]
  },
  {
   "cell_type": "code",
   "execution_count": 66,
   "id": "1d52d3a9",
   "metadata": {},
   "outputs": [
    {
     "data": {
      "text/plain": [
       "array([10, 50, 90])"
      ]
     },
     "execution_count": 66,
     "metadata": {},
     "output_type": "execute_result"
    }
   ],
   "source": [
    "np.einsum('ii->i',a)"
   ]
  },
  {
   "cell_type": "code",
   "execution_count": 70,
   "id": "63e1745e",
   "metadata": {},
   "outputs": [
    {
     "data": {
      "text/plain": [
       "array([[10, 40, 70],\n",
       "       [20, 50, 80],\n",
       "       [30, 60, 90]])"
      ]
     },
     "execution_count": 70,
     "metadata": {},
     "output_type": "execute_result"
    }
   ],
   "source": [
    "# transpose\n",
    "np.einsum('ij->ji',a)"
   ]
  },
  {
   "cell_type": "code",
   "execution_count": 69,
   "id": "c8114311",
   "metadata": {},
   "outputs": [
    {
     "data": {
      "text/plain": [
       "2610"
      ]
     },
     "execution_count": 69,
     "metadata": {},
     "output_type": "execute_result"
    }
   ],
   "source": [
    "#multiplication\n",
    "np.einsum('ij,ji',a,b)"
   ]
  },
  {
   "cell_type": "code",
   "execution_count": 71,
   "id": "65e7648b",
   "metadata": {},
   "outputs": [
    {
     "data": {
      "text/plain": [
       "10.2"
      ]
     },
     "execution_count": 71,
     "metadata": {},
     "output_type": "execute_result"
    }
   ],
   "source": [
    "np.percentile(nn,0.5)"
   ]
  },
  {
   "cell_type": "code",
   "execution_count": 73,
   "id": "da7613ff",
   "metadata": {},
   "outputs": [
    {
     "data": {
      "text/plain": [
       "20.0"
      ]
     },
     "execution_count": 73,
     "metadata": {},
     "output_type": "execute_result"
    }
   ],
   "source": [
    "np.quantile(nn,0.25)"
   ]
  },
  {
   "cell_type": "code",
   "execution_count": 74,
   "id": "5c457339",
   "metadata": {},
   "outputs": [
    {
     "data": {
      "text/plain": [
       "array([23, 53, 83])"
      ]
     },
     "execution_count": 74,
     "metadata": {},
     "output_type": "execute_result"
    }
   ],
   "source": [
    "# Matrix-Vector Multiplication\n",
    "A = np.array([[1,2],[3,4],[5,6]])\n",
    "x = np.array([7,8])\n",
    "\n",
    "np.einsum('ij,j->i',A,x)"
   ]
  },
  {
   "cell_type": "code",
   "execution_count": null,
   "id": "6a58bf03",
   "metadata": {},
   "outputs": [],
   "source": []
  }
 ],
 "metadata": {
  "kernelspec": {
   "display_name": "base",
   "language": "python",
   "name": "python3"
  },
  "language_info": {
   "codemirror_mode": {
    "name": "ipython",
    "version": 3
   },
   "file_extension": ".py",
   "mimetype": "text/x-python",
   "name": "python",
   "nbconvert_exporter": "python",
   "pygments_lexer": "ipython3",
   "version": "3.12.7"
  }
 },
 "nbformat": 4,
 "nbformat_minor": 5
}
