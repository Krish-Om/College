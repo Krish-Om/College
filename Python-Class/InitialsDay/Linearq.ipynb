{
 "cells": [
  {
   "cell_type": "code",
   "execution_count": 9,
   "id": "f0a347c2",
   "metadata": {},
   "outputs": [],
   "source": [
    "class Q:\n",
    "    def __init__(self, size):\n",
    "        self.rear = -1\n",
    "        self.front = -1\n",
    "        self.size = size | 5\n",
    "        self.queue = [] * self.size\n",
    "\n",
    "    def enqueue(self, item):\n",
    "        if self.rear == self.size - 1:\n",
    "            print(\"OverflowError\")\n",
    "        else:\n",
    "            if self.front == -1:\n",
    "                self.front += 1\n",
    "            else:\n",
    "                self.rear += 1\n",
    "                self.queue[self.rear] = item\n",
    "                print(f\"Items enqueued:{item}\")\n",
    "\n",
    "    def dequeue(self):\n",
    "        if (self.rear == -1 or self.front == -1) or self.front > self.rear:\n",
    "            print(f\"Queue is empty\")\n",
    "        else:\n",
    "            removed = self.queue[self.front]\n",
    "            self.queue[self.front] = None\n",
    "            print(f\"{removed} is dequeued from queue\")\n",
    "            if self.front > self.rear:\n",
    "                self.rear = self.front = -1\n",
    "\n",
    "    def peek(self):\n",
    "        if (self.rear == -1 or self.front == -1) or self.front > self.rear:\n",
    "            print(f\"Queue is empty\")\n",
    "        else:\n",
    "            print(f\"{self.queue[self.front]} is the first value present\")\n",
    "\n",
    "    def display(self):\n",
    "        if (self.rear == -1 or self.front == -1) or self.front > self.rear:\n",
    "            print(f\"Queue is empty\")\n",
    "        else:\n",
    "            print(\"Items present in queue:\\n\")\n",
    "            for i in self.queue:\n",
    "                print(f\"{i}\", end=\" \")\n",
    "\n",
    "    def sum_even_item_in_q(self):\n",
    "        sum: int = 0\n",
    "        for x in self.queue:\n",
    "            if x % 2 == 0:\n",
    "                sum += x\n",
    "\n",
    "        print(f\"{sum} is the required sum of even numbers\")\n",
    "\n",
    "\n",
    "def main():\n",
    "    size = int(input(\"enter the size of the queue\"))\n",
    "    q = Q(size)\n",
    "\n",
    "    while True:\n",
    "        print(\"1.enqueue\\n2.dequeu\\n3.peek\\n4.display\\n5.exit\")\n",
    "        choice = int(input(\"Enter the choice to perform\"))\n",
    "        match choice:\n",
    "            case 1:\n",
    "                x = int(input(\"Enter a value to enqueue:\"))\n",
    "                q.enqueue(x)\n",
    "                break\n",
    "            case 2:\n",
    "                q.dequeue()\n",
    "                break\n",
    "            case 3:\n",
    "                q.peek()\n",
    "                break\n",
    "            case 4:\n",
    "                q.display()\n",
    "                break\n",
    "            case 5:\n",
    "                exit(0)\n",
    "            case _:\n",
    "                print(\"Invalid choices\")\n",
    "                break\n",
    "\n"
   ]
  },
  {
   "cell_type": "code",
   "execution_count": 10,
   "id": "9bcd3dbd",
   "metadata": {},
   "outputs": [
    {
     "name": "stdout",
     "output_type": "stream",
     "text": [
      "1.enqueue\n",
      "2.dequeu\n",
      "3.peek\n",
      "4.display\n",
      "5.exit\n"
     ]
    }
   ],
   "source": [
    "main()"
   ]
  }
 ],
 "metadata": {
  "kernelspec": {
   "display_name": "base",
   "language": "python",
   "name": "python3"
  },
  "language_info": {
   "codemirror_mode": {
    "name": "ipython",
    "version": 3
   },
   "file_extension": ".py",
   "mimetype": "text/x-python",
   "name": "python",
   "nbconvert_exporter": "python",
   "pygments_lexer": "ipython3",
   "version": "3.12.7"
  }
 },
 "nbformat": 4,
 "nbformat_minor": 5
}
