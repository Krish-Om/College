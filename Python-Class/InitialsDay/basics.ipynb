{
 "cells": [
  {
   "cell_type": "markdown",
   "id": "8ffccb57",
   "metadata": {},
   "source": [
    "Nabin Timalsina"
   ]
  },
  {
   "cell_type": "code",
   "execution_count": null,
   "id": "47c21e9e-697d-495c-82ef-02679875c015",
   "metadata": {},
   "outputs": [
    {
     "name": "stdout",
     "output_type": "stream",
     "text": [
      "Enter the number 69\n"
     ]
    },
    {
     "name": "stdout",
     "output_type": "stream",
     "text": [
      "69is odd\n"
     ]
    }
   ],
   "source": [
    "number=int(input('Enter the number'))\n",
    "if number%2==0:\n",
    "    print(f'{number}is even')\n",
    "else:\n",
    "    print(f'{number}is odd')"
   ]
  },
  {
   "cell_type": "code",
   "execution_count": 6,
   "id": "f93d1acc-62ad-4e77-87e6-1c8ae225d6cc",
   "metadata": {},
   "outputs": [
    {
     "name": "stdout",
     "output_type": "stream",
     "text": [
      "Enter a number 0\n"
     ]
    },
    {
     "name": "stdout",
     "output_type": "stream",
     "text": [
      "0 is zero\n"
     ]
    }
   ],
   "source": [
    "number=int(input(\"Enter a number\"))\n",
    "if number==0:\n",
    "    print(f\"{number} is zero\")\n",
    "elif number<0:\n",
    "    print(f\"{number} is negative\")\n",
    "else:\n",
    "  print(f\"{number} is positive\")"
   ]
  },
  {
   "cell_type": "code",
   "execution_count": null,
   "id": "7e7cfdf4-be0c-4568-b015-6cbe0fc0af6d",
   "metadata": {},
   "outputs": [],
   "source": []
  }
 ],
 "metadata": {
  "kernelspec": {
   "display_name": "base",
   "language": "python",
   "name": "python3"
  },
  "language_info": {
   "codemirror_mode": {
    "name": "ipython",
    "version": 3
   },
   "file_extension": ".py",
   "mimetype": "text/x-python",
   "name": "python",
   "nbconvert_exporter": "python",
   "pygments_lexer": "ipython3",
   "version": "3.12.7"
  }
 },
 "nbformat": 4,
 "nbformat_minor": 5
}
